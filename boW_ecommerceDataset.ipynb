{
 "cells": [
  {
   "cell_type": "markdown",
   "id": "f0d7eb20",
   "metadata": {},
   "source": [
    "### 🗞️E-Commerce Product Classification: BoW + ML\n",
    "\n",
    "📂Step 1: Install & Import Libraries"
   ]
  },
  {
   "cell_type": "code",
   "execution_count": 1,
   "id": "7cd1a5fc",
   "metadata": {},
   "outputs": [],
   "source": [
    "import pandas as pd\n",
    "import spacy"
   ]
  },
  {
   "cell_type": "markdown",
   "id": "57985534",
   "metadata": {},
   "source": [
    "🗂️Step 2: Load data set"
   ]
  },
  {
   "cell_type": "code",
   "execution_count": 2,
   "id": "9e16d63e",
   "metadata": {},
   "outputs": [
    {
     "data": {
      "text/html": [
       "<div>\n",
       "<style scoped>\n",
       "    .dataframe tbody tr th:only-of-type {\n",
       "        vertical-align: middle;\n",
       "    }\n",
       "\n",
       "    .dataframe tbody tr th {\n",
       "        vertical-align: top;\n",
       "    }\n",
       "\n",
       "    .dataframe thead th {\n",
       "        text-align: right;\n",
       "    }\n",
       "</style>\n",
       "<table border=\"1\" class=\"dataframe\">\n",
       "  <thead>\n",
       "    <tr style=\"text-align: right;\">\n",
       "      <th></th>\n",
       "      <th>label</th>\n",
       "      <th>text</th>\n",
       "      <th>processed_text</th>\n",
       "    </tr>\n",
       "  </thead>\n",
       "  <tbody>\n",
       "    <tr>\n",
       "      <th>0</th>\n",
       "      <td>Household</td>\n",
       "      <td>SAF 'Floral' Framed Painting (Wood, 30 inch x ...</td>\n",
       "      <td>saf floral framed painting wood 30 inch x 10 i...</td>\n",
       "    </tr>\n",
       "    <tr>\n",
       "      <th>1</th>\n",
       "      <td>Household</td>\n",
       "      <td>SAF 'UV Textured Modern Art Print Framed' Pain...</td>\n",
       "      <td>saf uv texture modern art print framed paintin...</td>\n",
       "    </tr>\n",
       "    <tr>\n",
       "      <th>2</th>\n",
       "      <td>Household</td>\n",
       "      <td>SAF Flower Print Framed Painting (Synthetic, 1...</td>\n",
       "      <td>saf flower print framed painting synthetic 13....</td>\n",
       "    </tr>\n",
       "    <tr>\n",
       "      <th>3</th>\n",
       "      <td>Household</td>\n",
       "      <td>Incredible Gifts India Wooden Happy Birthday U...</td>\n",
       "      <td>incredible gifts india wooden happy birthday u...</td>\n",
       "    </tr>\n",
       "    <tr>\n",
       "      <th>4</th>\n",
       "      <td>Household</td>\n",
       "      <td>Pitaara Box Romantic Venice Canvas Painting 6m...</td>\n",
       "      <td>pitaara box romantic venice canvas painting 6 ...</td>\n",
       "    </tr>\n",
       "  </tbody>\n",
       "</table>\n",
       "</div>"
      ],
      "text/plain": [
       "       label                                               text  \\\n",
       "0  Household  SAF 'Floral' Framed Painting (Wood, 30 inch x ...   \n",
       "1  Household  SAF 'UV Textured Modern Art Print Framed' Pain...   \n",
       "2  Household  SAF Flower Print Framed Painting (Synthetic, 1...   \n",
       "3  Household  Incredible Gifts India Wooden Happy Birthday U...   \n",
       "4  Household  Pitaara Box Romantic Venice Canvas Painting 6m...   \n",
       "\n",
       "                                      processed_text  \n",
       "0  saf floral framed painting wood 30 inch x 10 i...  \n",
       "1  saf uv texture modern art print framed paintin...  \n",
       "2  saf flower print framed painting synthetic 13....  \n",
       "3  incredible gifts india wooden happy birthday u...  \n",
       "4  pitaara box romantic venice canvas painting 6 ...  "
      ]
     },
     "execution_count": 2,
     "metadata": {},
     "output_type": "execute_result"
    }
   ],
   "source": [
    "df = pd.read_csv(\"processed_ecommerceDataset.csv\") \n",
    "df.head()"
   ]
  },
  {
   "cell_type": "markdown",
   "id": "d9c8320e",
   "metadata": {},
   "source": [
    "🔍Step 3: Explore Data"
   ]
  },
  {
   "cell_type": "code",
   "execution_count": null,
   "id": "cdffd902",
   "metadata": {},
   "outputs": [
    {
     "data": {
      "text/plain": [
       "label             0\n",
       "text              0\n",
       "processed_text    1\n",
       "dtype: int64"
      ]
     },
     "execution_count": 3,
     "metadata": {},
     "output_type": "execute_result"
    }
   ],
   "source": [
    "df.isnull().sum()"
   ]
  },
  {
   "cell_type": "code",
   "execution_count": 6,
   "id": "aae5f27c",
   "metadata": {},
   "outputs": [
    {
     "data": {
      "text/plain": [
       "(27800, 3)"
      ]
     },
     "execution_count": 6,
     "metadata": {},
     "output_type": "execute_result"
    }
   ],
   "source": [
    "df.dropna(inplace=True)\n",
    "df.shape"
   ]
  },
  {
   "cell_type": "markdown",
   "id": "a480dc63",
   "metadata": {},
   "source": [
    "🪓Step 5: train test split"
   ]
  },
  {
   "cell_type": "code",
   "execution_count": 7,
   "id": "4de287b8",
   "metadata": {},
   "outputs": [],
   "source": [
    "from sklearn.model_selection import train_test_split\n",
    "\n",
    "X = df[\"processed_text\"]\n",
    "y = df[\"label\"]\n",
    "X_train, X_test, y_train, y_test = train_test_split(X, y, test_size=0.2, random_state=42)"
   ]
  },
  {
   "cell_type": "markdown",
   "id": "674cdd30",
   "metadata": {},
   "source": [
    "🤖Step 6: Train the Model"
   ]
  },
  {
   "cell_type": "code",
   "execution_count": 8,
   "id": "65484a79",
   "metadata": {},
   "outputs": [],
   "source": [
    "from sklearn.naive_bayes import MultinomialNB\n",
    "from sklearn.pipeline import Pipeline\n",
    "from sklearn.feature_extraction.text import CountVectorizer\n",
    "from sklearn.metrics import classification_report"
   ]
  },
  {
   "cell_type": "markdown",
   "id": "010fd9ef",
   "metadata": {},
   "source": [
    "🧪Attempt 1 (Baseline - Unigrams Only)"
   ]
  },
  {
   "cell_type": "code",
   "execution_count": 9,
   "id": "4f15ce67",
   "metadata": {},
   "outputs": [
    {
     "name": "stdout",
     "output_type": "stream",
     "text": [
      "Attempt 1 (Unigrams):\n",
      "                      precision    recall  f1-score   support\n",
      "\n",
      "               Books       0.97      0.92      0.95      1270\n",
      "Clothing_Accessories       0.95      0.98      0.96      1124\n",
      "         Electronics       0.92      0.93      0.93      1049\n",
      "           Household       0.94      0.96      0.95      2117\n",
      "\n",
      "            accuracy                           0.95      5560\n",
      "           macro avg       0.95      0.95      0.95      5560\n",
      "        weighted avg       0.95      0.95      0.95      5560\n",
      "\n"
     ]
    }
   ],
   "source": [
    "# Attempt 1: Unigrams (1,1)\n",
    "clf_1 = Pipeline([\n",
    "    ('vectorizer', CountVectorizer(ngram_range=(1, 1))),\n",
    "    ('model', MultinomialNB())\n",
    "])\n",
    "clf_1.fit(X_train, y_train)\n",
    "y_pred_1 = clf_1.predict(X_test)\n",
    "print(\"Attempt 1 (Unigrams):\")\n",
    "print(classification_report(y_test, y_pred_1))"
   ]
  },
  {
   "cell_type": "markdown",
   "id": "d69232d9",
   "metadata": {},
   "source": [
    "🧪Attempt 2 (Unigrams + Bigrams)"
   ]
  },
  {
   "cell_type": "code",
   "execution_count": 10,
   "id": "69ee9d86",
   "metadata": {},
   "outputs": [
    {
     "name": "stdout",
     "output_type": "stream",
     "text": [
      "Attempt 2 (Unigrams+Bigrams):\n",
      "                      precision    recall  f1-score   support\n",
      "\n",
      "               Books       0.98      0.92      0.95      1270\n",
      "Clothing_Accessories       0.97      0.97      0.97      1124\n",
      "         Electronics       0.94      0.93      0.94      1049\n",
      "           Household       0.93      0.97      0.95      2117\n",
      "\n",
      "            accuracy                           0.95      5560\n",
      "           macro avg       0.96      0.95      0.95      5560\n",
      "        weighted avg       0.95      0.95      0.95      5560\n",
      "\n"
     ]
    }
   ],
   "source": [
    "# Attempt 2: Unigrams + Bigrams (1,2)\n",
    "clf_2 = Pipeline([\n",
    "    ('vectorizer', CountVectorizer(ngram_range=(1, 2))),  \n",
    "    ('model', MultinomialNB())\n",
    "])\n",
    "clf_2.fit(X_train, y_train)\n",
    "y_pred_2 = clf_2.predict(X_test)\n",
    "print(\"Attempt 2 (Unigrams+Bigrams):\")\n",
    "print(classification_report(y_test, y_pred_2))"
   ]
  },
  {
   "cell_type": "markdown",
   "id": "340631ce",
   "metadata": {},
   "source": [
    "🧪Attempt 3 (Bigrams Only)"
   ]
  },
  {
   "cell_type": "code",
   "execution_count": 11,
   "id": "50ecf762",
   "metadata": {},
   "outputs": [
    {
     "name": "stdout",
     "output_type": "stream",
     "text": [
      "Attempt 3 (Bigrams Only):\n",
      "                      precision    recall  f1-score   support\n",
      "\n",
      "               Books       0.98      0.88      0.92      1270\n",
      "Clothing_Accessories       0.95      0.97      0.96      1124\n",
      "         Electronics       0.93      0.92      0.93      1049\n",
      "           Household       0.91      0.96      0.94      2117\n",
      "\n",
      "            accuracy                           0.94      5560\n",
      "           macro avg       0.94      0.93      0.94      5560\n",
      "        weighted avg       0.94      0.94      0.94      5560\n",
      "\n"
     ]
    }
   ],
   "source": [
    "# Attempt 3: Bigrams only (2,2)\n",
    "clf_3 = Pipeline([\n",
    "    ('vectorizer', CountVectorizer(ngram_range=(2, 2))), \n",
    "    ('model', MultinomialNB())\n",
    "])\n",
    "clf_3.fit(X_train, y_train)\n",
    "y_pred_3 = clf_3.predict(X_test)\n",
    "print(\"Attempt 3 (Bigrams Only):\")\n",
    "print(classification_report(y_test, y_pred_3))"
   ]
  },
  {
   "cell_type": "markdown",
   "id": "a46b327f",
   "metadata": {},
   "source": [
    "🧪Attempt 4 (Unigrams to Trigrams)"
   ]
  },
  {
   "cell_type": "code",
   "execution_count": 12,
   "id": "de52567c",
   "metadata": {},
   "outputs": [
    {
     "name": "stdout",
     "output_type": "stream",
     "text": [
      "Attempt 4 (Unigrams+Bigrams+Trigrams):\n",
      "                      precision    recall  f1-score   support\n",
      "\n",
      "               Books       0.98      0.92      0.95      1270\n",
      "Clothing_Accessories       0.98      0.96      0.97      1124\n",
      "         Electronics       0.94      0.93      0.94      1049\n",
      "           Household       0.93      0.98      0.95      2117\n",
      "\n",
      "            accuracy                           0.95      5560\n",
      "           macro avg       0.96      0.95      0.95      5560\n",
      "        weighted avg       0.95      0.95      0.95      5560\n",
      "\n"
     ]
    }
   ],
   "source": [
    "# Attempt 4: Unigrams to Trigrams (1,3)\n",
    "clf_4 = Pipeline([\n",
    "    ('vectorizer', CountVectorizer(ngram_range=(1, 3))), \n",
    "    ('model', MultinomialNB())\n",
    "])\n",
    "clf_4.fit(X_train, y_train)\n",
    "y_pred_4 = clf_4.predict(X_test)\n",
    "print(\"Attempt 4 (Unigrams+Bigrams+Trigrams):\")\n",
    "print(classification_report(y_test, y_pred_4))"
   ]
  },
  {
   "cell_type": "markdown",
   "id": "0a704ae5",
   "metadata": {},
   "source": [
    "⚖️Compare Results & Save Best Model"
   ]
  },
  {
   "cell_type": "code",
   "execution_count": 13,
   "id": "c70727f9",
   "metadata": {},
   "outputs": [
    {
     "name": "stdout",
     "output_type": "stream",
     "text": [
      "\n",
      "Best Model: Attempt 2 (1,2) | F1-Score: 0.9516\n"
     ]
    }
   ],
   "source": [
    "from sklearn.metrics import f1_score\n",
    "\n",
    "# Store results in a dictionary\n",
    "results = {\n",
    "    'Attempt 1 (1,1)': f1_score(y_test, y_pred_1, average='weighted'),\n",
    "    'Attempt 2 (1,2)': f1_score(y_test, y_pred_2, average='weighted'),\n",
    "    'Attempt 3 (2,2)': f1_score(y_test, y_pred_3, average='weighted'),\n",
    "    'Attempt 4 (1,3)': f1_score(y_test, y_pred_4, average='weighted')\n",
    "}\n",
    "\n",
    "# Find best model\n",
    "best_attempt = max(results, key=results.get)\n",
    "print(f\"\\nBest Model: {best_attempt} | F1-Score: {results[best_attempt]:.4f}\")"
   ]
  },
  {
   "cell_type": "code",
   "execution_count": 14,
   "id": "0d255fda",
   "metadata": {},
   "outputs": [],
   "source": [
    "# Save the best pipeline\n",
    "if best_attempt == 'Attempt 1 (1,1)':\n",
    "    best_model = clf_1\n",
    "elif best_attempt == 'Attempt 2 (1,2)':\n",
    "    best_model = clf_2\n",
    "elif best_attempt == 'Attempt 3 (2,2)':\n",
    "    best_model = clf_3\n",
    "else:\n",
    "    best_model = clf_4"
   ]
  },
  {
   "cell_type": "code",
   "execution_count": 15,
   "id": "dca83a69",
   "metadata": {},
   "outputs": [
    {
     "name": "stdout",
     "output_type": "stream",
     "text": [
      "Best model saved as 'best_fake_news_model.pkl'\n"
     ]
    }
   ],
   "source": [
    "import joblib\n",
    "joblib.dump(best_model, 'best_model(bow).pkl')  \n",
    "print(\"Best model saved as 'best_fake_news_model.pkl'\")"
   ]
  }
 ],
 "metadata": {
  "kernelspec": {
   "display_name": "Python 3",
   "language": "python",
   "name": "python3"
  },
  "language_info": {
   "codemirror_mode": {
    "name": "ipython",
    "version": 3
   },
   "file_extension": ".py",
   "mimetype": "text/x-python",
   "name": "python",
   "nbconvert_exporter": "python",
   "pygments_lexer": "ipython3",
   "version": "3.11.4"
  }
 },
 "nbformat": 4,
 "nbformat_minor": 5
}
